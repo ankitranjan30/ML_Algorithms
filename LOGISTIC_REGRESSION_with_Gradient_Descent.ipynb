{
 "cells": [
  {
   "cell_type": "markdown",
   "metadata": {},
   "source": [
    "# LOGISTIC REGRESSION with Gradient Descent"
   ]
  },
  {
   "cell_type": "code",
   "execution_count": 60,
   "metadata": {},
   "outputs": [],
   "source": [
    "import numpy as np\n",
    "import random\n",
    "import matplotlib.pyplot as plt\n",
    "import pandas as pd\n",
    "import seaborn as sns\n",
    "from numpy.random import rand"
   ]
  },
  {
   "cell_type": "markdown",
   "metadata": {},
   "source": [
    "### Generating Training Set"
   ]
  },
  {
   "cell_type": "code",
   "execution_count": 61,
   "metadata": {},
   "outputs": [
    {
     "name": "stderr",
     "output_type": "stream",
     "text": [
      "C:\\Users\\ankit\\AppData\\Local\\Temp/ipykernel_18460/327875085.py:12: RuntimeWarning: covariance is not positive-semidefinite.\n",
      "  x2 = np.array(np.random.multivariate_normal(mu2, cov2, N))\n"
     ]
    },
    {
     "data": {
      "text/html": [
       "<div>\n",
       "<style scoped>\n",
       "    .dataframe tbody tr th:only-of-type {\n",
       "        vertical-align: middle;\n",
       "    }\n",
       "\n",
       "    .dataframe tbody tr th {\n",
       "        vertical-align: top;\n",
       "    }\n",
       "\n",
       "    .dataframe thead th {\n",
       "        text-align: right;\n",
       "    }\n",
       "</style>\n",
       "<table border=\"1\" class=\"dataframe\">\n",
       "  <thead>\n",
       "    <tr style=\"text-align: right;\">\n",
       "      <th></th>\n",
       "      <th>Feature1</th>\n",
       "      <th>Feature2</th>\n",
       "      <th>label</th>\n",
       "    </tr>\n",
       "  </thead>\n",
       "  <tbody>\n",
       "    <tr>\n",
       "      <th>0</th>\n",
       "      <td>0.823529</td>\n",
       "      <td>0.692532</td>\n",
       "      <td>0.0</td>\n",
       "    </tr>\n",
       "    <tr>\n",
       "      <th>1</th>\n",
       "      <td>0.570844</td>\n",
       "      <td>0.121096</td>\n",
       "      <td>0.0</td>\n",
       "    </tr>\n",
       "    <tr>\n",
       "      <th>2</th>\n",
       "      <td>-0.543924</td>\n",
       "      <td>0.981759</td>\n",
       "      <td>1.0</td>\n",
       "    </tr>\n",
       "    <tr>\n",
       "      <th>3</th>\n",
       "      <td>1.534962</td>\n",
       "      <td>0.417238</td>\n",
       "      <td>0.0</td>\n",
       "    </tr>\n",
       "    <tr>\n",
       "      <th>4</th>\n",
       "      <td>1.016518</td>\n",
       "      <td>-0.508885</td>\n",
       "      <td>1.0</td>\n",
       "    </tr>\n",
       "    <tr>\n",
       "      <th>...</th>\n",
       "      <td>...</td>\n",
       "      <td>...</td>\n",
       "      <td>...</td>\n",
       "    </tr>\n",
       "    <tr>\n",
       "      <th>995</th>\n",
       "      <td>1.955970</td>\n",
       "      <td>1.345258</td>\n",
       "      <td>0.0</td>\n",
       "    </tr>\n",
       "    <tr>\n",
       "      <th>996</th>\n",
       "      <td>0.441844</td>\n",
       "      <td>0.051665</td>\n",
       "      <td>1.0</td>\n",
       "    </tr>\n",
       "    <tr>\n",
       "      <th>997</th>\n",
       "      <td>1.828601</td>\n",
       "      <td>1.178731</td>\n",
       "      <td>0.0</td>\n",
       "    </tr>\n",
       "    <tr>\n",
       "      <th>998</th>\n",
       "      <td>0.419913</td>\n",
       "      <td>0.045802</td>\n",
       "      <td>0.0</td>\n",
       "    </tr>\n",
       "    <tr>\n",
       "      <th>999</th>\n",
       "      <td>-0.886965</td>\n",
       "      <td>-0.496014</td>\n",
       "      <td>0.0</td>\n",
       "    </tr>\n",
       "  </tbody>\n",
       "</table>\n",
       "<p>1000 rows × 3 columns</p>\n",
       "</div>"
      ],
      "text/plain": [
       "     Feature1  Feature2  label\n",
       "0    0.823529  0.692532    0.0\n",
       "1    0.570844  0.121096    0.0\n",
       "2   -0.543924  0.981759    1.0\n",
       "3    1.534962  0.417238    0.0\n",
       "4    1.016518 -0.508885    1.0\n",
       "..        ...       ...    ...\n",
       "995  1.955970  1.345258    0.0\n",
       "996  0.441844  0.051665    1.0\n",
       "997  1.828601  1.178731    0.0\n",
       "998  0.419913  0.045802    0.0\n",
       "999 -0.886965 -0.496014    0.0\n",
       "\n",
       "[1000 rows x 3 columns]"
      ]
     },
     "execution_count": 61,
     "metadata": {},
     "output_type": "execute_result"
    }
   ],
   "source": [
    "#Number of instances N in each set\n",
    "N = 500\n",
    "#For set 1\n",
    "mu1 = np.array([1,0])\n",
    "cov1 = np.array([[1,0.75],[0.75,1]])\n",
    "#For set 2\n",
    "mu2 = np.array([0,1])\n",
    "cov2 = np.array([[1,-0.5],[0.5,1]])\n",
    "#Inputs x1, x2\n",
    "np.random.seed(1) \n",
    "x1 = np.array(np.random.multivariate_normal(mu1, cov1, N))\n",
    "x2 = np.array(np.random.multivariate_normal(mu2, cov2, N))\n",
    "\n",
    "label0_train = np.zeros(500).reshape(500,1)\n",
    "label1_train = np.ones(500).reshape(500,1)\n",
    "labels_train = np.concatenate((label0_train,label1_train), axis = 0)\n",
    "X_train = np.concatenate((x1,x2), axis = 0)\n",
    "\n",
    "X_train = np.concatenate((X_train,labels_train), axis = 1)\n",
    "np.random.shuffle(X_train)\n",
    "X_pd = pd.DataFrame(X_train,columns=['Feature1','Feature2','label'])\n",
    "\n",
    "X_train = X_pd.drop(columns=['label'])\n",
    "X_train = np.array(X_train)\n",
    "y_class_pd = X_pd[['label']]\n",
    "y_class = np.array(y_class_pd)\n",
    "\n",
    "X_pd"
   ]
  },
  {
   "cell_type": "markdown",
   "metadata": {},
   "source": [
    "### Class LogisticRegression"
   ]
  },
  {
   "cell_type": "code",
   "execution_count": 62,
   "metadata": {},
   "outputs": [],
   "source": [
    "class LogisticReg:\n",
    "    def __init__(self, LearningRate = 0.001, iterations = 10000):\n",
    "        self.eta_lr = LearningRate\n",
    "        self.total_iterations = iterations\n",
    "        \n",
    "    def fit(self, X, y_class): #only for training data\n",
    "        # Gradient Descent\n",
    "        N_instances, N_features = X.shape\n",
    "        intercept = np.ones((X.shape[0], 1))\n",
    "        X = np.hstack((intercept, X))\n",
    "        \n",
    "        self.weights = np.zeros(X.shape[1]).reshape(X.shape[1], 1) # 3 weights now not 2\n",
    "        \n",
    "        #print(\"self.weights\", (self.weights).shape)\n",
    "        #print(\"N_instances = \",N_instances,\"N_features\",N_features)\n",
    "        \n",
    "        for no_of_iterations_to_converge in range(self.total_iterations):\n",
    "            #while update_in_weight very very small\n",
    "            \n",
    "            net = np.dot(X,self.weights) \n",
    "            o_class = self.sigmoid(net)\n",
    "            \n",
    "            \n",
    "            gradient_errorWRTweights = np.array( (1/N_instances)*np.dot(X.T,(o_class - y_class)) )\n",
    "            self.weights = self.weights - self.eta_lr*gradient_errorWRTweights\n",
    "           \n",
    "            \n",
    "            if ((gradient_errorWRTweights[0]<0.0001) and (gradient_errorWRTweights[1]<0.0001) and (gradient_errorWRTweights[2]<0.0001)):\n",
    "                print(\"It took\",no_of_iterations_to_converge,\"iterations/epochs to converge when learning rate = \",self.eta_lr)\n",
    "                break\n",
    "        \n",
    "        print(\"gradient_errorWRTweights.shape =\",gradient_errorWRTweights.shape)\n",
    "        \n",
    "        return int(no_of_iterations_to_converge)\n",
    "        #print(o_class.shape)\n",
    "            \n",
    "    def prediction(self, X): #for testing data both we want to predict\n",
    "        N_instances, N_features = X.shape\n",
    "        intercept = np.ones((X.shape[0], 1))\n",
    "        X = np.hstack((intercept, X))        \n",
    "        \n",
    "        net = np.array(np.dot(X,self.weights)) \n",
    "        y_sigmoid = self.sigmoid(net) #sigmoid\n",
    "        np.array(y_sigmoid)\n",
    "        \n",
    "        o_class = [1 if i > 0.5 else 0 for i in y_sigmoid]        \n",
    "        o_class = (np.array(o_class)).reshape(X.shape[0],1)\n",
    "        \n",
    "        return o_class, y_sigmoid\n",
    "                    \n",
    "    def sigmoid(self,net):\n",
    "        return 1/(1+np.exp(-net))"
   ]
  },
  {
   "cell_type": "code",
   "execution_count": 63,
   "metadata": {},
   "outputs": [],
   "source": [
    "#TPR, TNR\n",
    "#LET POSITIVE BE INDICATED BY 1 and NEGATIVE BE INDICATED BY 0\n",
    "\n",
    "#TPR, TNR, FPR, FNR, Accuracy for TESTING SET\n",
    "def TPR_TNR_FPR_FNR_Accuracy_Precision_Recall(y_class_true,y_class_pred):\n",
    "    count_TP,count_TN,count_FP,count_FN,Accuracy = 0,0,0,0,0\n",
    "    #print(y_class_pred.shape)\n",
    "    #print(y_class_true.shape)\n",
    "    y_class_true_shape = np.array(y_class_true).shape #.reshape(len(y_class_true),1)\n",
    "    #print(y_class_true_shape)\n",
    "    y_class_pred_shape = np.array(y_class_pred).shape #.reshape(len(y_class_pred),1)\n",
    "    #print(y_class_pred_shape)\n",
    "    for i in range(len(y_class_true)):\n",
    "        if((y_class_true[i] == 1) and (y_class_pred[i] == 1)):\n",
    "            count_TP = count_TP + 1\n",
    "        if((y_class_true[i] == 0) and (y_class_pred[i] == 0)):\n",
    "            count_TN = count_TN + 1\n",
    "        if((y_class_true[i] == 0) and (y_class_pred[i] == 1)):\n",
    "            count_FP = count_FP + 1\n",
    "        if((y_class_true[i] == 1) and (y_class_pred[i] == 0)):\n",
    "            count_FN = count_FN + 1\n",
    "            \n",
    "    print(\"count_TP = \",count_TP,\"\\ncount_TN = \",count_TN,\"\\ncount_FP = \",count_FP,\"\\ncount_FN = \",count_FN)\n",
    "    \n",
    "    TPR = (count_TP/(count_TP + count_FN)) * 100\n",
    "    TNR = (count_TN)/(count_TN + count_FP) * 100\n",
    "    FPR = (count_FP)/(count_FP + count_TN) * 100\n",
    "    FNR = (count_FN)/(count_FN + count_TP) * 100\n",
    "    Accuracy = ((count_TP + count_TN)/(count_TP+count_FP+count_FN+count_TN))*100\n",
    "    Precision =((count_TP)/(count_TP + count_FP)) *100\n",
    "    Recall = ((count_TP)/(count_TP + count_FN)) *100\n",
    "    \n",
    "    return TPR, TNR, FPR, FNR, Accuracy,Precision,Recall\n"
   ]
  },
  {
   "cell_type": "code",
   "execution_count": 64,
   "metadata": {},
   "outputs": [
    {
     "name": "stdout",
     "output_type": "stream",
     "text": [
      "gradient_errorWRTweights.shape = (3, 1)\n",
      "For Train set:\n",
      "\n",
      "count_TP =  378 \n",
      "count_TN =  455 \n",
      "count_FP =  45 \n",
      "count_FN =  122\n",
      "TPR = 75.6 \n",
      "TNR 91.0 \n",
      "FPR = 9.0 \n",
      "FNR = 24.4 \n",
      "Accuracy = 83.3 \n",
      "Precision = 89.36170212765957 \n",
      "Recall = 75.6\n"
     ]
    }
   ],
   "source": [
    "X_LogisticReg =  LogisticReg() #Default Learning Rate\n",
    "\n",
    "X_LogisticReg.fit(X_train, y_class)\n",
    "\n",
    "PRED_CLASS_TRAIN, PRED_SIGMOID_TRAIN = X_LogisticReg.prediction(X_train)\n",
    "print(\"For Train set:\\n\")\n",
    "TPR,TNR,FPR,FNR,Accuracy,Precision,Recall= TPR_TNR_FPR_FNR_Accuracy_Precision_Recall(y_class,PRED_CLASS_TRAIN)\n",
    "print(\"TPR =\",TPR,\"\\nTNR\",TNR,\"\\nFPR =\",FPR,\"\\nFNR =\",FNR,\"\\nAccuracy =\",Accuracy,\"\\nPrecision =\",Precision,\"\\nRecall =\",Recall)"
   ]
  },
  {
   "cell_type": "code",
   "execution_count": 65,
   "metadata": {},
   "outputs": [
    {
     "data": {
      "text/plain": [
       "array([[ 0.02699749],\n",
       "       [-0.97858279],\n",
       "       [ 1.02646961]])"
      ]
     },
     "execution_count": 65,
     "metadata": {},
     "output_type": "execute_result"
    }
   ],
   "source": [
    "X_LogisticReg.weights"
   ]
  },
  {
   "cell_type": "markdown",
   "metadata": {},
   "source": [
    "### Test Data"
   ]
  },
  {
   "cell_type": "code",
   "execution_count": 66,
   "metadata": {},
   "outputs": [
    {
     "name": "stdout",
     "output_type": "stream",
     "text": [
      "gradient_errorWRTweights.shape = (3, 1)\n",
      "xx_LogisticReg_test.weights =  [[ 0.05977079]\n",
      " [-0.97245566]\n",
      " [ 0.99795247]]\n",
      "For Test set:\n",
      "\n",
      "count_TP =  80 \n",
      "count_TN =  91 \n",
      "count_FP =  12 \n",
      "count_FN =  17\n",
      "TPR = 82.4742268041237 \n",
      "TNR 88.3495145631068 \n",
      "FPR = 11.650485436893204 \n",
      "FNR = 17.525773195876287 \n",
      "Accuracy = 85.5 \n",
      "Precision = 86.95652173913044 \n",
      "Recall = 82.4742268041237\n"
     ]
    }
   ],
   "source": [
    "xx = X_train[:800]\n",
    "xx.shape\n",
    "yy = y_class[:800]\n",
    "yy.shape\n",
    "\n",
    "xx_test = X_train[-200:]\n",
    "xx_test.shape\n",
    "yy_test = y_class[-200:]\n",
    "yy_test.shape\n",
    "\n",
    "xx_LogisticReg_test =  LogisticReg() #Default Learning Rate\n",
    "\n",
    "xx_LogisticReg_test.fit(xx, yy)\n",
    "print(\"xx_LogisticReg_test.weights = \",xx_LogisticReg_test.weights)\n",
    "PRED_CLASS_TEST_1, PRED_SIGMOID_TEST_1 = xx_LogisticReg_test.prediction(xx_test)\n",
    "#PRED_CLASS_TEST\n",
    "\n",
    "print(\"For Test set:\\n\")\n",
    "TPR,TNR,FPR,FNR,Accuracy,Precision,Recall= TPR_TNR_FPR_FNR_Accuracy_Precision_Recall(yy_test, PRED_CLASS_TEST_1)\n",
    "print(\"TPR =\",TPR,\"\\nTNR\",TNR,\"\\nFPR =\",FPR,\"\\nFNR =\",FNR,\"\\nAccuracy =\",Accuracy,\"\\nPrecision =\",Precision,\"\\nRecall =\",Recall)"
   ]
  },
  {
   "cell_type": "markdown",
   "metadata": {},
   "source": [
    "### ROC curve"
   ]
  },
  {
   "cell_type": "code",
   "execution_count": 67,
   "metadata": {},
   "outputs": [
    {
     "data": {
      "image/png": "[encoded data removed]",
      "text/plain": [
       "<Figure size 432x288 with 1 Axes>"
      ]
     },
     "metadata": {
      "needs_background": "light"
     },
     "output_type": "display_data"
    }
   ],
   "source": [
    "thresholds = np.linspace(1,0,101)\n",
    "T = PRED_SIGMOID_TEST_1\n",
    "\n",
    "Y = yy_test\n",
    "\n",
    "ROC = np.zeros((101,2))\n",
    "\n",
    "for i in range(101):\n",
    "    t = thresholds[i]\n",
    "\n",
    "    # Classifier / label agree and disagreements for current threshold.\n",
    "    TP_t = np.logical_and( T > t, Y==1 ).sum()\n",
    "    TN_t = np.logical_and( T <=t, Y==0 ).sum()\n",
    "    FP_t = np.logical_and( T > t, Y==0 ).sum()\n",
    "    FN_t = np.logical_and( T <=t, Y==1 ).sum()\n",
    "\n",
    "        \n",
    "    # Compute false positive rate for current threshold.\n",
    "    FPR_t = FP_t / float(FP_t + TN_t)\n",
    "    ROC[i,0] = FPR_t\n",
    "\n",
    "    # Compute true  positive rate for current threshold.\n",
    "    TPR_t = TP_t / float(TP_t + FN_t)\n",
    "    ROC[i,1] = TPR_t\n",
    "\n",
    "# Plot the ROC curve.\n",
    "#fig = plt.figure(figsize=(10,8))\n",
    "plt.plot(ROC[:,0], ROC[:,1])\n",
    "plt.xlim(-0.1,1.1)\n",
    "plt.ylim(-0.1,1.1)\n",
    "plt.xlabel('FPR(t)')\n",
    "plt.ylabel('TPR(t)')\n",
    "plt.grid()\n",
    "\n",
    "AUC = 0.\n",
    "for i in range(100):\n",
    "    AUC += (ROC[i+1,0]-ROC[i,0]) * (ROC[i+1,1]+ROC[i,1])\n",
    "AUC *= 0.5\n",
    "\n",
    "plt.title('ROC curve, AUC = %.6f'%AUC)\n",
    "plt.show()"
   ]
  },
  {
   "cell_type": "markdown",
   "metadata": {},
   "source": [
    "### Learning Rates = 0.0001,0.001, 0.01, 0.1, and 1"
   ]
  },
  {
   "cell_type": "markdown",
   "metadata": {},
   "source": [
    "#### LR = 0.0001"
   ]
  },
  {
   "cell_type": "code",
   "execution_count": 68,
   "metadata": {},
   "outputs": [
    {
     "name": "stdout",
     "output_type": "stream",
     "text": [
      "gradient_errorWRTweights.shape = (3, 1)\n"
     ]
    },
    {
     "data": {
      "text/plain": [
       "9999"
      ]
     },
     "execution_count": 68,
     "metadata": {},
     "output_type": "execute_result"
    }
   ],
   "source": [
    "#X_train = X\n",
    "X_train_LogisticReg =  LogisticReg(LearningRate = 0.0001)\n",
    "\n",
    "no_of_iterations_to_converge_1 = X_train_LogisticReg.fit(xx, yy)\n",
    "no_of_iterations_to_converge_1"
   ]
  },
  {
   "cell_type": "markdown",
   "metadata": {},
   "source": [
    "#### LR = 0.001"
   ]
  },
  {
   "cell_type": "code",
   "execution_count": 69,
   "metadata": {},
   "outputs": [
    {
     "name": "stdout",
     "output_type": "stream",
     "text": [
      "gradient_errorWRTweights.shape = (3, 1)\n"
     ]
    },
    {
     "data": {
      "text/plain": [
       "9999"
      ]
     },
     "execution_count": 69,
     "metadata": {},
     "output_type": "execute_result"
    }
   ],
   "source": [
    "#X_train = X\n",
    "X_train_LogisticReg =  LogisticReg(LearningRate = 0.001)\n",
    "\n",
    "no_of_iterations_to_converge_2 = X_train_LogisticReg.fit(xx,yy)\n",
    "no_of_iterations_to_converge_2"
   ]
  },
  {
   "cell_type": "markdown",
   "metadata": {},
   "source": [
    "#### LR = 0.01"
   ]
  },
  {
   "cell_type": "code",
   "execution_count": 70,
   "metadata": {},
   "outputs": [
    {
     "name": "stdout",
     "output_type": "stream",
     "text": [
      "gradient_errorWRTweights.shape = (3, 1)\n"
     ]
    }
   ],
   "source": [
    "#X_train = X\n",
    "X_train_LogisticReg =  LogisticReg(LearningRate = 0.01)\n",
    "\n",
    "no_of_iterations_to_converge_3 = X_train_LogisticReg.fit(xx,yy)"
   ]
  },
  {
   "cell_type": "markdown",
   "metadata": {},
   "source": [
    "#### LR = 0.1"
   ]
  },
  {
   "cell_type": "code",
   "execution_count": 71,
   "metadata": {},
   "outputs": [
    {
     "name": "stdout",
     "output_type": "stream",
     "text": [
      "It took 1334 iterations/epochs to converge when learning rate =  0.1\n",
      "gradient_errorWRTweights.shape = (3, 1)\n"
     ]
    }
   ],
   "source": [
    "#X_train = X\n",
    "X_train_LogisticReg =  LogisticReg(LearningRate = 0.1)\n",
    "\n",
    "no_of_iterations_to_converge_4 = X_train_LogisticReg.fit(xx,yy)"
   ]
  },
  {
   "cell_type": "markdown",
   "metadata": {},
   "source": [
    "#### LR = 1"
   ]
  },
  {
   "cell_type": "code",
   "execution_count": 72,
   "metadata": {},
   "outputs": [
    {
     "name": "stdout",
     "output_type": "stream",
     "text": [
      "It took 130 iterations/epochs to converge when learning rate =  1\n",
      "gradient_errorWRTweights.shape = (3, 1)\n"
     ]
    }
   ],
   "source": [
    "#X_train = X\n",
    "X_train_LogisticReg =  LogisticReg(LearningRate = 1)\n",
    "\n",
    "no_of_iterations_to_converge_5 = X_train_LogisticReg.fit(xx,yy)"
   ]
  },
  {
   "cell_type": "markdown",
   "metadata": {},
   "source": [
    "### Plot LR v/s Epochs_to_converge"
   ]
  },
  {
   "cell_type": "code",
   "execution_count": 73,
   "metadata": {},
   "outputs": [
    {
     "data": {
      "text/plain": [
       "<AxesSubplot:xlabel='Learning_Rate', ylabel='Epochs_to_converge(max 10000)'>"
      ]
     },
     "execution_count": 73,
     "metadata": {},
     "output_type": "execute_result"
    },
    {
     "data": {
      "image/png": "[encoded data removed]",
      "text/plain": [
       "<Figure size 432x288 with 1 Axes>"
      ]
     },
     "metadata": {
      "needs_background": "light"
     },
     "output_type": "display_data"
    }
   ],
   "source": [
    "\n",
    "no_of_iterations_to_converge_pd = [no_of_iterations_to_converge_1,no_of_iterations_to_converge_2,no_of_iterations_to_converge_3,no_of_iterations_to_converge_4,no_of_iterations_to_converge_5]\n",
    "no_of_iterations_to_converge_pd = np.array(no_of_iterations_to_converge_pd)\n",
    "no_of_iterations_to_converge_pd\n",
    "\n",
    "learning_rates_pd = [0.0001,0.001,0.01,0.1,1]\n",
    "learning_rates_pd = np.array(learning_rates_pd)\n",
    "learning_rates_pd\n",
    "\n",
    "pd_1=pd.DataFrame(no_of_iterations_to_converge_pd,columns=['Epochs_to_converge(max 10000)'])\n",
    "pd_2=pd.DataFrame(learning_rates_pd,columns=['Learning_Rate'])\n",
    "df_lr_vs_iterations = pd.concat((pd_1,pd_2),axis=1)\n",
    "sns.lineplot(x='Learning_Rate',y='Epochs_to_converge(max 10000)',data=df_lr_vs_iterations)"
   ]
  },
  {
   "cell_type": "code",
   "execution_count": 74,
   "metadata": {},
   "outputs": [
    {
     "name": "stdout",
     "output_type": "stream",
     "text": [
      "Learning rate for the least epochs is: 1.0 and the number of epochs is 130\n"
     ]
    }
   ],
   "source": [
    "best_lr_epochs = df_lr_vs_iterations.nsmallest(1, 'Epochs_to_converge(max 10000)') #['Epochs_to_converge(max 10000)']\n",
    "print('Learning rate for the least epochs is:', best_lr_epochs['Learning_Rate'].iloc[0], 'and the number of epochs is', best_lr_epochs['Epochs_to_converge(max 10000)'].iloc[0])"
   ]
  },
  {
   "cell_type": "code",
   "execution_count": null,
   "metadata": {},
   "outputs": [],
   "source": []
  },
  {
   "cell_type": "code",
   "execution_count": null,
   "metadata": {},
   "outputs": [],
   "source": []
  },
  {
   "cell_type": "code",
   "execution_count": null,
   "metadata": {},
   "outputs": [],
   "source": []
  },
  {
   "cell_type": "code",
   "execution_count": null,
   "metadata": {},
   "outputs": [],
   "source": []
  },
  {
   "cell_type": "code",
   "execution_count": null,
   "metadata": {},
   "outputs": [],
   "source": []
  },
  {
   "cell_type": "code",
   "execution_count": null,
   "metadata": {},
   "outputs": [],
   "source": []
  },
  {
   "cell_type": "code",
   "execution_count": null,
   "metadata": {},
   "outputs": [],
   "source": []
  }
 ],
 "metadata": {
  "kernelspec": {
   "display_name": "Python 3",
   "language": "python",
   "name": "python3"
  },
  "language_info": {
   "codemirror_mode": {
    "name": "ipython",
    "version": 3
   },
   "file_extension": ".py",
   "mimetype": "text/x-python",
   "name": "python",
   "nbconvert_exporter": "python",
   "pygments_lexer": "ipython3",
   "version": "3.8.10"
  }
 },
 "nbformat": 4,
 "nbformat_minor": 4
}
