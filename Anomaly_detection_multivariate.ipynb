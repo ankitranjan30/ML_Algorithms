{
 "cells": [
  {
   "cell_type": "code",
   "execution_count": 3,
   "id": "63e78b0e-e0d6-4a74-abe5-e1184d74d0d6",
   "metadata": {},
   "outputs": [
    {
     "data": {
      "text/html": [
       "<div>\n",
       "<style scoped>\n",
       "    .dataframe tbody tr th:only-of-type {\n",
       "        vertical-align: middle;\n",
       "    }\n",
       "\n",
       "    .dataframe tbody tr th {\n",
       "        vertical-align: top;\n",
       "    }\n",
       "\n",
       "    .dataframe thead th {\n",
       "        text-align: right;\n",
       "    }\n",
       "</style>\n",
       "<table border=\"1\" class=\"dataframe\">\n",
       "  <thead>\n",
       "    <tr style=\"text-align: right;\">\n",
       "      <th></th>\n",
       "      <th>Width</th>\n",
       "      <th>Height</th>\n",
       "    </tr>\n",
       "  </thead>\n",
       "  <tbody>\n",
       "    <tr>\n",
       "      <th>0</th>\n",
       "      <td>25</td>\n",
       "      <td>24</td>\n",
       "    </tr>\n",
       "    <tr>\n",
       "      <th>1</th>\n",
       "      <td>25</td>\n",
       "      <td>25</td>\n",
       "    </tr>\n",
       "    <tr>\n",
       "      <th>2</th>\n",
       "      <td>25</td>\n",
       "      <td>25</td>\n",
       "    </tr>\n",
       "    <tr>\n",
       "      <th>3</th>\n",
       "      <td>21</td>\n",
       "      <td>24</td>\n",
       "    </tr>\n",
       "    <tr>\n",
       "      <th>4</th>\n",
       "      <td>24</td>\n",
       "      <td>24</td>\n",
       "    </tr>\n",
       "    <tr>\n",
       "      <th>5</th>\n",
       "      <td>30</td>\n",
       "      <td>29</td>\n",
       "    </tr>\n",
       "    <tr>\n",
       "      <th>6</th>\n",
       "      <td>25</td>\n",
       "      <td>25</td>\n",
       "    </tr>\n",
       "    <tr>\n",
       "      <th>7</th>\n",
       "      <td>25</td>\n",
       "      <td>25</td>\n",
       "    </tr>\n",
       "    <tr>\n",
       "      <th>8</th>\n",
       "      <td>27</td>\n",
       "      <td>29</td>\n",
       "    </tr>\n",
       "    <tr>\n",
       "      <th>9</th>\n",
       "      <td>25</td>\n",
       "      <td>29</td>\n",
       "    </tr>\n",
       "    <tr>\n",
       "      <th>10</th>\n",
       "      <td>24</td>\n",
       "      <td>29</td>\n",
       "    </tr>\n",
       "    <tr>\n",
       "      <th>11</th>\n",
       "      <td>24</td>\n",
       "      <td>25</td>\n",
       "    </tr>\n",
       "    <tr>\n",
       "      <th>12</th>\n",
       "      <td>27</td>\n",
       "      <td>25</td>\n",
       "    </tr>\n",
       "    <tr>\n",
       "      <th>13</th>\n",
       "      <td>24</td>\n",
       "      <td>27</td>\n",
       "    </tr>\n",
       "    <tr>\n",
       "      <th>14</th>\n",
       "      <td>24</td>\n",
       "      <td>25</td>\n",
       "    </tr>\n",
       "    <tr>\n",
       "      <th>15</th>\n",
       "      <td>25</td>\n",
       "      <td>24</td>\n",
       "    </tr>\n",
       "    <tr>\n",
       "      <th>16</th>\n",
       "      <td>24</td>\n",
       "      <td>25</td>\n",
       "    </tr>\n",
       "    <tr>\n",
       "      <th>17</th>\n",
       "      <td>25</td>\n",
       "      <td>30</td>\n",
       "    </tr>\n",
       "    <tr>\n",
       "      <th>18</th>\n",
       "      <td>29</td>\n",
       "      <td>29</td>\n",
       "    </tr>\n",
       "    <tr>\n",
       "      <th>19</th>\n",
       "      <td>27</td>\n",
       "      <td>30</td>\n",
       "    </tr>\n",
       "    <tr>\n",
       "      <th>20</th>\n",
       "      <td>27</td>\n",
       "      <td>24</td>\n",
       "    </tr>\n",
       "    <tr>\n",
       "      <th>21</th>\n",
       "      <td>29</td>\n",
       "      <td>25</td>\n",
       "    </tr>\n",
       "    <tr>\n",
       "      <th>22</th>\n",
       "      <td>27</td>\n",
       "      <td>25</td>\n",
       "    </tr>\n",
       "    <tr>\n",
       "      <th>23</th>\n",
       "      <td>25</td>\n",
       "      <td>25</td>\n",
       "    </tr>\n",
       "    <tr>\n",
       "      <th>24</th>\n",
       "      <td>23</td>\n",
       "      <td>29</td>\n",
       "    </tr>\n",
       "    <tr>\n",
       "      <th>25</th>\n",
       "      <td>30</td>\n",
       "      <td>22</td>\n",
       "    </tr>\n",
       "  </tbody>\n",
       "</table>\n",
       "</div>"
      ],
      "text/plain": [
       "    Width  Height\n",
       "0      25      24\n",
       "1      25      25\n",
       "2      25      25\n",
       "3      21      24\n",
       "4      24      24\n",
       "5      30      29\n",
       "6      25      25\n",
       "7      25      25\n",
       "8      27      29\n",
       "9      25      29\n",
       "10     24      29\n",
       "11     24      25\n",
       "12     27      25\n",
       "13     24      27\n",
       "14     24      25\n",
       "15     25      24\n",
       "16     24      25\n",
       "17     25      30\n",
       "18     29      29\n",
       "19     27      30\n",
       "20     27      24\n",
       "21     29      25\n",
       "22     27      25\n",
       "23     25      25\n",
       "24     23      29\n",
       "25     30      22"
      ]
     },
     "execution_count": 3,
     "metadata": {},
     "output_type": "execute_result"
    }
   ],
   "source": [
    "import pandas as pd\n",
    "df = pd.read_excel(\"Anomaly_detection_dataset.xlsx\")\n",
    "df.columns = ['Width', 'Height']\n",
    "potl_outlier = pd.DataFrame([[30,22]], columns=['Width', 'Height']) # POTENTIAL ANOMALY\n",
    "potl_outlier\n",
    "df1 = pd.concat([df, potl_outlier], axis = 0)\n",
    "df1 = df1.reset_index()\n",
    "df1 = df1[['Width', 'Height']]\n",
    "df1"
   ]
  },
  {
   "cell_type": "markdown",
   "id": "66727984-a7b0-4281-bec8-873fb3833dbd",
   "metadata": {},
   "source": [
    "### Checking if individual variable values are an outlier with univariate checking method like Box-Plot visually first and then quantitatively to pin down the outlier observation(s)"
   ]
  },
  {
   "cell_type": "code",
   "execution_count": 4,
   "id": "30e4e3da-070f-42f9-9076-4f10795567e1",
   "metadata": {},
   "outputs": [
    {
     "data": {
      "text/plain": [
       "<AxesSubplot:>"
      ]
     },
     "execution_count": 4,
     "metadata": {},
     "output_type": "execute_result"
    },
    {
     "data": {
      "image/png": "[encoded data removed]",
      "text/plain": [
       "<Figure size 432x288 with 1 Axes>"
      ]
     },
     "metadata": {
      "needs_background": "light"
     },
     "output_type": "display_data"
    }
   ],
   "source": [
    "import matplotlib.pyplot as plt\n",
    "df1.plot.box()"
   ]
  },
  {
   "cell_type": "code",
   "execution_count": 5,
   "id": "a46ec4ec-94da-46af-aaf3-335615c33127",
   "metadata": {},
   "outputs": [
    {
     "name": "stdout",
     "output_type": "stream",
     "text": [
      "Outlier Indices of x1:  []\n",
      "\n",
      "Outlier Values of x1: \n",
      " []\n",
      "\n",
      "\n",
      "Outlier Indices of x2:  []\n",
      "\n",
      "Outlier Values of x2: \n",
      " []\n"
     ]
    }
   ],
   "source": [
    "import numpy as np\n",
    "def outlier_indices(x):\n",
    "    Q1, Q3 = np.percentile(x, [25, 75])\n",
    "    IQR = Q3-Q1\n",
    "    lower_bound = Q1 - (1.5 * IQR)\n",
    "    upper_bound = Q3 + (1.5 * IQR)\n",
    "    outlier_index = np.where((x < lower_bound) | (x > upper_bound))\n",
    "    return outlier_index\n",
    "\n",
    "\n",
    "print(\"Outlier Indices of x1: \", outlier_indices(np.array(df1)[:,0])[0])\n",
    "print(\"\\nOutlier Values of x1: \\n\", np.array(df1)[outlier_indices(np.array(df1)[:,0])])\n",
    "print(\"\\n\")\n",
    "print(\"Outlier Indices of x2: \", outlier_indices(np.array(df1)[:,1])[0])\n",
    "print(\"\\nOutlier Values of x2: \\n\", np.array(df1)[outlier_indices(np.array(df1)[:,1])])"
   ]
  },
  {
   "cell_type": "markdown",
   "id": "2629ac7a-99a4-4b66-a3fd-6c0d6b4efa83",
   "metadata": {},
   "source": [
    "#### Clearly neither of the univariate features in this multivariate dataset contain outliers by itself"
   ]
  },
  {
   "cell_type": "markdown",
   "id": "294b151c-1a77-4c44-8ee6-3ca66b6f18f8",
   "metadata": {},
   "source": [
    "We opt for a multivariate anomaly detection technique on this dataset as this is not a supervised learning problem (like Regression where we could identify outlier detection techniques like rstudent from SAS compared to a critical t-value). Thus, technique used here will be isolation forest. \n",
    "\n",
    "It has a hyperparameter called contamination density. Here it is assumed to be 1%"
   ]
  },
  {
   "cell_type": "code",
   "execution_count": 6,
   "id": "a9edbc2e-570a-4a66-88ba-9f4183f3066b",
   "metadata": {},
   "outputs": [],
   "source": [
    "from sklearn.ensemble import IsolationForest\n",
    "random_state = np.random.RandomState(42)"
   ]
  },
  {
   "cell_type": "code",
   "execution_count": 7,
   "id": "1d75d825-f3e5-4005-9efa-cd757b485e9d",
   "metadata": {},
   "outputs": [
    {
     "name": "stdout",
     "output_type": "stream",
     "text": [
      "{'bootstrap': False, 'contamination': 0.01, 'max_features': 1.0, 'max_samples': 'auto', 'n_estimators': 100, 'n_jobs': None, 'random_state': RandomState(MT19937) at 0x162DACF2740, 'verbose': 0, 'warm_start': False}\n"
     ]
    },
    {
     "name": "stderr",
     "output_type": "stream",
     "text": [
      "C:\\Users\\ankit\\anaconda3\\envs\\interview_prep\\lib\\site-packages\\sklearn\\base.py:445: UserWarning: X does not have valid feature names, but IsolationForest was fitted with feature names\n",
      "  warnings.warn(\n"
     ]
    }
   ],
   "source": [
    "model=IsolationForest(n_estimators=100,max_samples='auto',contamination=float(0.01),random_state=random_state) \n",
    "# n_estimators is the number of isolation forests used. It is akin to random forests being formed from many decision trees.\n",
    "# max_samples isnumber of observations in x_train for training\n",
    "\n",
    "# contamination: ‘auto’ or float, default=’auto’\n",
    "# The amount of contamination of the data set, i.e. the proportion of outliers in the data set. Used when fitting to define the threshold on the scores of the samples.\n",
    "\n",
    "# If ‘auto’, the threshold is determined as in the original paper.\n",
    "\n",
    "# If float, the contamination should be in the range (0, 0.5].\n",
    "\n",
    "# For more info please refer: https://scikit-learn.org/stable/modules/generated/sklearn.ensemble.IsolationForest.html\n",
    "model.fit(df1[['Width', 'Height']])\n",
    "\n",
    "print(model.get_params())"
   ]
  },
  {
   "cell_type": "code",
   "execution_count": 8,
   "id": "ad98ede3-89de-483b-a4dd-fb2164491b8b",
   "metadata": {},
   "outputs": [
    {
     "data": {
      "text/html": [
       "<div>\n",
       "<style scoped>\n",
       "    .dataframe tbody tr th:only-of-type {\n",
       "        vertical-align: middle;\n",
       "    }\n",
       "\n",
       "    .dataframe tbody tr th {\n",
       "        vertical-align: top;\n",
       "    }\n",
       "\n",
       "    .dataframe thead th {\n",
       "        text-align: right;\n",
       "    }\n",
       "</style>\n",
       "<table border=\"1\" class=\"dataframe\">\n",
       "  <thead>\n",
       "    <tr style=\"text-align: right;\">\n",
       "      <th></th>\n",
       "      <th>Width</th>\n",
       "      <th>Height</th>\n",
       "      <th>scores</th>\n",
       "      <th>anomaly_score</th>\n",
       "    </tr>\n",
       "  </thead>\n",
       "  <tbody>\n",
       "    <tr>\n",
       "      <th>25</th>\n",
       "      <td>30</td>\n",
       "      <td>22</td>\n",
       "      <td>-0.011052</td>\n",
       "      <td>-1</td>\n",
       "    </tr>\n",
       "  </tbody>\n",
       "</table>\n",
       "</div>"
      ],
      "text/plain": [
       "    Width  Height    scores  anomaly_score\n",
       "25     30      22 -0.011052             -1"
      ]
     },
     "execution_count": 8,
     "metadata": {},
     "output_type": "execute_result"
    }
   ],
   "source": [
    "df1['scores'] = model.decision_function(df1[['Width', 'Height']])\n",
    "\n",
    "df1['anomaly_score'] = model.predict(df1[['Width', 'Height']])\n",
    "\n",
    "df1[df1['anomaly_score']==-1]#.head()"
   ]
  },
  {
   "cell_type": "markdown",
   "id": "25b11379-24b4-4aa0-8f8f-d29f42d69034",
   "metadata": {},
   "source": [
    "Thus the observation to check as a potential anomaly is identified as anomaly."
   ]
  },
  {
   "cell_type": "code",
   "execution_count": null,
   "id": "28a850e9-c3de-4896-afb3-cde5ccfc4be3",
   "metadata": {},
   "outputs": [],
   "source": []
  }
 ],
 "metadata": {
  "kernelspec": {
   "display_name": "Python 3 (ipykernel)",
   "language": "python",
   "name": "python3"
  },
  "language_info": {
   "codemirror_mode": {
    "name": "ipython",
    "version": 3
   },
   "file_extension": ".py",
   "mimetype": "text/x-python",
   "name": "python",
   "nbconvert_exporter": "python",
   "pygments_lexer": "ipython3",
   "version": "3.9.7"
  }
 },
 "nbformat": 4,
 "nbformat_minor": 5
}
